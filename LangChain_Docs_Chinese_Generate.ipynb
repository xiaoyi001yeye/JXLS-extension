{
  "nbformat": 4,
  "nbformat_minor": 0,
  "metadata": {
    "colab": {
      "provenance": [],
      "mount_file_id": "1XdaY-gnAdoXUPhZdWkT8EZUNimENQZ7I",
      "authorship_tag": "ABX9TyPZWnsx+yROf48965aFpmI8",
      "include_colab_link": true
    },
    "kernelspec": {
      "name": "python3",
      "display_name": "Python 3"
    },
    "language_info": {
      "name": "python"
    }
  },
  "cells": [
    {
      "cell_type": "markdown",
      "metadata": {
        "id": "view-in-github",
        "colab_type": "text"
      },
      "source": [
        "<a href=\"https://colab.research.google.com/github/xiaoyi001yeye/JXLS-extension/blob/master/LangChain_Docs_Chinese_Generate.ipynb\" target=\"_parent\"><img src=\"https://colab.research.google.com/assets/colab-badge.svg\" alt=\"Open In Colab\"/></a>"
      ]
    },
    {
      "cell_type": "code",
      "execution_count": null,
      "metadata": {
        "id": "ChOL23v8fayo",
        "colab": {
          "base_uri": "https://localhost:8080/"
        },
        "outputId": "6d9905f1-f891-49c6-e979-109afa99e5e0"
      },
      "outputs": [
        {
          "output_type": "stream",
          "name": "stdout",
          "text": [
            "Cloning into 'LangChain-Docs-Chinese'...\n",
            "remote: Enumerating objects: 46, done.\u001b[K\n",
            "remote: Counting objects: 100% (46/46), done.\u001b[K\n",
            "remote: Compressing objects: 100% (41/41), done.\u001b[K\n",
            "remote: Total 46 (delta 12), reused 24 (delta 4), pack-reused 0\u001b[K\n",
            "Unpacking objects: 100% (46/46), 250.69 KiB | 3.69 MiB/s, done.\n"
          ]
        }
      ],
      "source": [
        "!git clone https://github.com/xiaoyi001yeye/LangChain-Docs-Chinese.git"
      ]
    },
    {
      "cell_type": "code",
      "source": [
        "%%bash\n",
        "pip install polib"
      ],
      "metadata": {
        "id": "7zAmXjmhgq5x",
        "colab": {
          "base_uri": "https://localhost:8080/"
        },
        "outputId": "db27b3b3-0e2c-4943-981d-512376517dbd"
      },
      "execution_count": null,
      "outputs": [
        {
          "output_type": "stream",
          "name": "stdout",
          "text": [
            "Looking in indexes: https://pypi.org/simple, https://us-python.pkg.dev/colab-wheels/public/simple/\n",
            "Collecting polib\n",
            "  Downloading polib-1.2.0-py2.py3-none-any.whl (20 kB)\n",
            "Installing collected packages: polib\n",
            "Successfully installed polib-1.2.0\n"
          ]
        }
      ]
    },
    {
      "cell_type": "code",
      "source": [
        "import requests\n",
        "import datetime\n",
        "import hashlib\n",
        "import base64\n",
        "import hmac\n",
        "import json\n",
        "\n",
        "class get_result(object):\n",
        "    def __init__(self,host):\n",
        "        \n",
        "        \n",
        "        \n",
        "        # 以下为POST请求\n",
        "        self.Host = host\n",
        "        self.RequestUri = \"/v2/ots\"\n",
        "        # 设置url\n",
        "        # print(host)\n",
        "        self.url=\"http://\"+host+self.RequestUri\n",
        "        self.HttpMethod = \"POST\"\n",
        "        self.Algorithm = \"hmac-sha256\"\n",
        "        self.HttpProto = \"HTTP/1.1\"\n",
        "\n",
        "        # 设置当前时间\n",
        "        curTime_utc = datetime.datetime.utcnow()\n",
        "        self.Date = self.httpdate(curTime_utc)\n",
        "        # 设置业务参数\n",
        "        # 语种列表参数值请参照接口文档：https://www.xfyun.cn/doc/nlp/niutrans/API.html\n",
        "        self.Text=\"How old are you\"\n",
        "        self.BusinessArgs={\n",
        "                \"from\": \"en\",\n",
        "                \"to\": \"zh\",\n",
        "            }\n",
        "\n",
        "    def hashlib_256(self, res):\n",
        "        m = hashlib.sha256(bytes(res.encode(encoding='utf-8'))).digest()\n",
        "        result = \"SHA-256=\" + base64.b64encode(m).decode(encoding='utf-8')\n",
        "        return result\n",
        "\n",
        "    def httpdate(self, dt):\n",
        "        \"\"\"\n",
        "        Return a string representation of a date according to RFC 1123\n",
        "        (HTTP/1.1).\n",
        "\n",
        "        The supplied date must be in UTC.\n",
        "\n",
        "        \"\"\"\n",
        "        weekday = [\"Mon\", \"Tue\", \"Wed\", \"Thu\", \"Fri\", \"Sat\", \"Sun\"][dt.weekday()]\n",
        "        month = [\"Jan\", \"Feb\", \"Mar\", \"Apr\", \"May\", \"Jun\", \"Jul\", \"Aug\", \"Sep\",\n",
        "                 \"Oct\", \"Nov\", \"Dec\"][dt.month - 1]\n",
        "        return \"%s, %02d %s %04d %02d:%02d:%02d GMT\" % (weekday, dt.day, month,\n",
        "                                                        dt.year, dt.hour, dt.minute, dt.second)\n",
        "\n",
        "    def generateSignature(self, digest):\n",
        "        signatureStr = \"host: \" + self.Host + \"\\n\"\n",
        "        signatureStr += \"date: \" + self.Date + \"\\n\"\n",
        "        signatureStr += self.HttpMethod + \" \" + self.RequestUri \\\n",
        "                        + \" \" + self.HttpProto + \"\\n\"\n",
        "        signatureStr += \"digest: \" + digest\n",
        "        signature = hmac.new(bytes(self.Secret.encode(encoding='utf-8')),\n",
        "                             bytes(signatureStr.encode(encoding='utf-8')),\n",
        "                             digestmod=hashlib.sha256).digest()\n",
        "        result = base64.b64encode(signature)\n",
        "        return result.decode(encoding='utf-8')\n",
        "\n",
        "    def init_header(self, data):\n",
        "        digest = self.hashlib_256(data)\n",
        "        #print(digest)\n",
        "        sign = self.generateSignature(digest)\n",
        "        authHeader = 'api_key=\"%s\", algorithm=\"%s\", ' \\\n",
        "                     'headers=\"host date request-line digest\", ' \\\n",
        "                     'signature=\"%s\"' \\\n",
        "                     % (self.APIKey, self.Algorithm, sign)\n",
        "        #print(authHeader)\n",
        "        headers = {\n",
        "            \"Content-Type\": \"application/json\",\n",
        "            \"Accept\": \"application/json\",\n",
        "            \"Method\": \"POST\",\n",
        "            \"Host\": self.Host,\n",
        "            \"Date\": self.Date,\n",
        "            \"Digest\": digest,\n",
        "            \"Authorization\": authHeader\n",
        "        }\n",
        "        return headers\n",
        "\n",
        "    def get_body(self,text):\n",
        "        \n",
        "        content = str(base64.b64encode(self.Text.encode('utf-8') if text is None else text.encode('utf-8') ), 'utf-8')\n",
        "        postdata = {\n",
        "            \"common\": {\"app_id\": self.APPID},\n",
        "            \"business\": self.BusinessArgs,\n",
        "            \"data\": {\n",
        "                \"text\": content,\n",
        "            }\n",
        "        }\n",
        "        body = json.dumps(postdata)\n",
        "        #print(body)\n",
        "        return body\n",
        "\n",
        "    def call_url(self):\n",
        "        if self.APPID == '' or self.APIKey == '' or self.Secret == '':\n",
        "            print('Appid 或APIKey 或APISecret 为空！请打开demo代码，填写相关信息。')\n",
        "        else:\n",
        "            code = 0\n",
        "            body=self.get_body()\n",
        "            headers=self.init_header(body)\n",
        "            #print(self.url)\n",
        "            response = requests.post(self.url, data=body, headers=headers,timeout=8)\n",
        "            status_code = response.status_code\n",
        "            #print(response.content)\n",
        "            if status_code!=200:\n",
        "                # 鉴权失败\n",
        "                print(\"Http请求失败，状态码：\" + str(status_code) + \"，错误信息：\" + response.text)\n",
        "                print(\"请根据错误信息检查代码，接口文档：https://www.xfyun.cn/doc/nlp/niutrans/API.html\")\n",
        "            else:\n",
        "                # 鉴权成功\n",
        "                respData = json.loads(response.text)\n",
        "                print(respData)\n",
        "                # 以下仅用于调试\n",
        "                code = str(respData[\"code\"])\n",
        "                if code!='0':\n",
        "                    print(\"请前往https://www.xfyun.cn/document/error-code?code=\" + code + \"查询解决办法\")\n",
        "    def tanslate(self,text):\n",
        "        body=self.get_body(text)\n",
        "        headers=self.init_header(body)\n",
        "        #print(self.url)\n",
        "        response = requests.post(self.url, data=body, headers=headers,timeout=8)\n",
        "        status_code = response.status_code\n",
        "        #print(response.content)\n",
        "        if status_code!=200:\n",
        "            # 鉴权失败\n",
        "            print(\"Http请求失败，状态码：\" + str(status_code) + \"，错误信息：\" + response.text)\n",
        "            print(\"请根据错误信息检查代码，接口文档：https://www.xfyun.cn/doc/nlp/niutrans/API.html\")\n",
        "        else:\n",
        "            # 鉴权成功\n",
        "            data = json.loads(response.text)\n",
        "            return data.get(\"data\").get(\"result\").get(\"trans_result\").get(\"dst\")\n",
        "\n",
        "# if __name__ == '__main__':\n",
        "#     ##示例:  host=\"ntrans.xfyun.cn\"域名形式\n",
        "#     host = \"ntrans.xfyun.cn\"\n",
        "#     #初始化类\n",
        "#     gClass=get_result(host)\n",
        "#     gClass.call_url()\n",
        "\n",
        "def tanslate(text):\n",
        "  host = \"ntrans.xfyun.cn\"\n",
        "  gClass=get_result(host)\n",
        "  return gClass.tanslate(text=text)"
      ],
      "metadata": {
        "id": "-zcWHLUMFLbi"
      },
      "execution_count": null,
      "outputs": []
    },
    {
      "cell_type": "code",
      "source": [
        "print(tanslate(\"Deployments\"))"
      ],
      "metadata": {
        "colab": {
          "base_uri": "https://localhost:8080/"
        },
        "id": "_4Xm4xrrGstV",
        "outputId": "dbd4d44e-b396-4bd6-c2d5-4d0809da8346"
      },
      "execution_count": null,
      "outputs": [
        {
          "output_type": "stream",
          "name": "stdout",
          "text": [
            "部署\n"
          ]
        }
      ]
    },
    {
      "cell_type": "code",
      "source": [
        "import csv\n",
        "import polib\n",
        "from typing import Tuple\n",
        "\n",
        "# 定义翻译函数\n",
        "def translate_text(text: str) -> str:\n",
        "    # 在这里实现翻译功能，此处只作为示例\n",
        "    return tanslate(str)\n",
        "print(tanslate(\"Deployments\"))\n",
        "#定义 PO 文件路径和 CSV 文件路径\n",
        "po_file_path = \"/content/LangChain-Docs-Chinese/docs_gettext/messages.PO\"\n",
        "csv_file_path = \"/content/message.csv\"\n",
        "\n",
        "# 使用 polib 包解析 PO 文件\n",
        "po = polib.pofile(po_file_path)\n",
        "messages = [(entry.msgid, entry.msgstr) for entry in po]\n",
        "\n",
        "# 翻译每个消息并保存到 CSV 文件\n",
        "with open(csv_file_path, \"w\", newline=\"\", encoding=\"utf-8\") as csv_file:\n",
        "    writer = csv.writer(csv_file)\n",
        "    # 写入 CSV 文件头部\n",
        "    writer.writerow([\"msgid\", \"msgstr\"])\n",
        "    for msgid, msgstr in messages:\n",
        "        # 翻译消息\n",
        "        try:\n",
        "            msgstr_translated = tanslate(msgid)\n",
        "        except:\n",
        "            msgstr_translated = \"\"\n",
        "        # 写入 CSV 文件\n",
        "        writer.writerow([msgid, msgstr_translated])\n",
        "\n",
        "print(\"翻译完成，已保存到 CSV 文件中。\")\n"
      ],
      "metadata": {
        "colab": {
          "base_uri": "https://localhost:8080/"
        },
        "id": "kCjFbYf-3Fnm",
        "outputId": "b2857bac-f5c1-45b2-c254-4bd34b84d67c"
      },
      "execution_count": null,
      "outputs": [
        {
          "output_type": "stream",
          "name": "stdout",
          "text": [
            "部署\n",
            "翻译完成，已保存到 CSV 文件中。\n"
          ]
        }
      ]
    }
  ]
}